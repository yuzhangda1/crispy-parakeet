{
 "cells": [
  {
   "cell_type": "markdown",
   "metadata": {},
   "source": [
    "# 🌐 Cyberattack Detection and Anomalous Behavior Analysis Using Recurrent Neural Networks (RNN)\n",
    "\n",
    "## Introduction\n",
    "Cybersecurity has become a critical domain as network attacks increasingly threaten systems worldwide. Detecting cyberattacks and analyzing anomalous behaviors in network traffic is essential for securing digital environments. Here, I focused on utilizing Recurrent Neural Networks (RNNs) to identify abnormal patterns in network traffic that indicate cyberattacks, including attacks like DDoS, port scanning, etc.\n",
    "\n",
    "## Dataset\n",
    "For this project, the [Intrusion detection evaluation dataset (CIC-IDS2017)](https://www.unb.ca/cic/datasets/ids-2017.html) from the [Canadian Institute for Cybersecurity](https://www.unb.ca) is utilized. This dataset is widely recognized for evaluating intrusion detection systems and encompasses a diverse set of network traffic scenarios.\n",
    "\n",
    "The dataset contains real-world attack simulations such as DDoS, brute force, SQL injection, port scanning, and botnet activities. These scenarios reflect actual attack behaviors, making the dataset highly practical for cybersecurity research.\n",
    "\n",
    "The sequential nature of network traffic in this dataset makes it suitable for RNN-based methods. The features can be structured as time-series sequences to capture temporal dependencies critical for detecting anomalies.\n",
    "\n",
    "Since `Kaggle API` offers an efficient way to access datasets, I used the [Network Intrusion dataset (CIC-IDS2017)](https://www.kaggle.com/datasets/chethuhn/network-intrusion-dataset) hosted on `Kaggle`. However, you can download it manually.\n",
    "\n",
    "Install the `Kaggle` package if you haven’t already:"
   ]
  },
  {
   "cell_type": "code",
   "execution_count": 1,
   "metadata": {
    "vscode": {
     "languageId": "shellscript"
    }
   },
   "outputs": [
    {
     "name": "stdout",
     "output_type": "stream",
     "text": [
      "Requirement already satisfied: kaggle in /Library/Frameworks/Python.framework/Versions/3.11/lib/python3.11/site-packages (1.6.17)\n",
      "Requirement already satisfied: six>=1.10 in /Library/Frameworks/Python.framework/Versions/3.11/lib/python3.11/site-packages (from kaggle) (1.16.0)\n",
      "Requirement already satisfied: certifi>=2023.7.22 in /Library/Frameworks/Python.framework/Versions/3.11/lib/python3.11/site-packages (from kaggle) (2024.8.30)\n",
      "Requirement already satisfied: python-dateutil in /Library/Frameworks/Python.framework/Versions/3.11/lib/python3.11/site-packages (from kaggle) (2.8.2)\n",
      "Requirement already satisfied: requests in /Library/Frameworks/Python.framework/Versions/3.11/lib/python3.11/site-packages (from kaggle) (2.31.0)\n",
      "Requirement already satisfied: tqdm in /Library/Frameworks/Python.framework/Versions/3.11/lib/python3.11/site-packages (from kaggle) (4.66.1)\n",
      "Requirement already satisfied: python-slugify in /Library/Frameworks/Python.framework/Versions/3.11/lib/python3.11/site-packages (from kaggle) (8.0.4)\n",
      "Requirement already satisfied: urllib3 in /Library/Frameworks/Python.framework/Versions/3.11/lib/python3.11/site-packages (from kaggle) (2.1.0)\n",
      "Requirement already satisfied: bleach in /Library/Frameworks/Python.framework/Versions/3.11/lib/python3.11/site-packages (from kaggle) (6.1.0)\n",
      "Requirement already satisfied: webencodings in /Library/Frameworks/Python.framework/Versions/3.11/lib/python3.11/site-packages (from bleach->kaggle) (0.5.1)\n",
      "Requirement already satisfied: text-unidecode>=1.3 in /Library/Frameworks/Python.framework/Versions/3.11/lib/python3.11/site-packages (from python-slugify->kaggle) (1.3)\n",
      "Requirement already satisfied: charset-normalizer<4,>=2 in /Library/Frameworks/Python.framework/Versions/3.11/lib/python3.11/site-packages (from requests->kaggle) (3.3.2)\n",
      "Requirement already satisfied: idna<4,>=2.5 in /Library/Frameworks/Python.framework/Versions/3.11/lib/python3.11/site-packages (from requests->kaggle) (3.6)\n",
      "Note: you may need to restart the kernel to use updated packages.\n"
     ]
    }
   ],
   "source": [
    "pip install kaggle"
   ]
  },
  {
   "cell_type": "markdown",
   "metadata": {},
   "source": [
    "Download the dataset by running:"
   ]
  },
  {
   "cell_type": "code",
   "execution_count": 2,
   "metadata": {},
   "outputs": [
    {
     "name": "stdout",
     "output_type": "stream",
     "text": [
      "Dataset not found at /tmp/network-intrusion-dataset\n",
      "Downloading...\n",
      "Dataset URL: https://www.kaggle.com/datasets/chethuhn/network-intrusion-dataset\n",
      "License(s): CC0-1.0\n",
      "Downloading network-intrusion-dataset.zip to /tmp/network-intrusion-dataset\n",
      "100%|██████████| 230M/230M [01:02<00:00, 2.64MB/s] \n",
      "100%|██████████| 230M/230M [01:02<00:00, 3.58MB/s]\n",
      "Download complete.\n"
     ]
    }
   ],
   "source": [
    "import os\n",
    "import subprocess\n",
    "\n",
    "# Define the dataset name and destination path\n",
    "dataset = 'chethuhn/network-intrusion-dataset'\n",
    "destination_path = '/tmp/network-intrusion-dataset'\n",
    "\n",
    "# Check if the dataset already exists\n",
    "if not os.path.exists(destination_path):\n",
    "    print(f\"Dataset not found at {destination_path}\\nDownloading...\")\n",
    "    os.makedirs(destination_path, exist_ok=True)  # Ensure the destination directory exists\n",
    "    \n",
    "    # Keep trying to download until it succeeds, in case of network connection issues.\n",
    "    while True:\n",
    "        try:\n",
    "            subprocess.run(f\"kaggle datasets download -d {dataset} -p {destination_path} --unzip\", \n",
    "                           shell=True, \n",
    "                           check=True,\n",
    "                           stderr=subprocess.STDOUT)\n",
    "            print(\"Download complete.\")\n",
    "            break  # Exit the loop when download succeeds\n",
    "        except subprocess.CalledProcessError:\n",
    "            print(f\"Download failed.\\nRetrying...\")\n",
    "else:\n",
    "    print(f\"Dataset already exists at {destination_path}\\nSkipping download.\")"
   ]
  },
  {
   "cell_type": "markdown",
   "metadata": {},
   "source": [
    "## Preprocessing the Data\n",
    "With the dataset downloaded, the next step is to preprocess it. Data preprocessing ensures that the data is clean and ready for modeling. Here are the main steps involved:\n",
    "\n",
    "### Load the Data: \n",
    "Simply use `pandas` to load the dataset and inspect it. Also, Python's `glob` module dynamically finds all CSV files in the destination folder."
   ]
  },
  {
   "cell_type": "code",
   "execution_count": 3,
   "metadata": {},
   "outputs": [
    {
     "name": "stdout",
     "output_type": "stream",
     "text": [
      "Data loaded successfully.\n",
      "Shape: (2830743, 79)\n",
      "Data Columns: [' Destination Port', ' Flow Duration', ' Total Fwd Packets', ' Total Backward Packets', 'Total Length of Fwd Packets', ' Total Length of Bwd Packets', ' Fwd Packet Length Max', ' Fwd Packet Length Min', ' Fwd Packet Length Mean', ' Fwd Packet Length Std', 'Bwd Packet Length Max', ' Bwd Packet Length Min', ' Bwd Packet Length Mean', ' Bwd Packet Length Std', 'Flow Bytes/s', ' Flow Packets/s', ' Flow IAT Mean', ' Flow IAT Std', ' Flow IAT Max', ' Flow IAT Min', 'Fwd IAT Total', ' Fwd IAT Mean', ' Fwd IAT Std', ' Fwd IAT Max', ' Fwd IAT Min', 'Bwd IAT Total', ' Bwd IAT Mean', ' Bwd IAT Std', ' Bwd IAT Max', ' Bwd IAT Min', 'Fwd PSH Flags', ' Bwd PSH Flags', ' Fwd URG Flags', ' Bwd URG Flags', ' Fwd Header Length', ' Bwd Header Length', 'Fwd Packets/s', ' Bwd Packets/s', ' Min Packet Length', ' Max Packet Length', ' Packet Length Mean', ' Packet Length Std', ' Packet Length Variance', 'FIN Flag Count', ' SYN Flag Count', ' RST Flag Count', ' PSH Flag Count', ' ACK Flag Count', ' URG Flag Count', ' CWE Flag Count', ' ECE Flag Count', ' Down/Up Ratio', ' Average Packet Size', ' Avg Fwd Segment Size', ' Avg Bwd Segment Size', ' Fwd Header Length.1', 'Fwd Avg Bytes/Bulk', ' Fwd Avg Packets/Bulk', ' Fwd Avg Bulk Rate', ' Bwd Avg Bytes/Bulk', ' Bwd Avg Packets/Bulk', 'Bwd Avg Bulk Rate', 'Subflow Fwd Packets', ' Subflow Fwd Bytes', ' Subflow Bwd Packets', ' Subflow Bwd Bytes', 'Init_Win_bytes_forward', ' Init_Win_bytes_backward', ' act_data_pkt_fwd', ' min_seg_size_forward', 'Active Mean', ' Active Std', ' Active Max', ' Active Min', 'Idle Mean', ' Idle Std', ' Idle Max', ' Idle Min', ' Label']\n"
     ]
    }
   ],
   "source": [
    "import pandas as pd\n",
    "import glob\n",
    "\n",
    "# Get all CSV files in the specified directory\n",
    "csv_files = glob.glob(os.path.join(destination_path, \"*.csv\"))\n",
    "\n",
    "# Order for the days of the week based on the dataset documentation\n",
    "days_order = [\"Monday\", \"Tuesday\", \"Wednesday\", \"Thursday\", \"Friday\"]\n",
    "\n",
    "# Sort the files based on day and time of day (morning before afternoon)\n",
    "csv_files_sorted = sorted(csv_files, key=lambda x: (\n",
    "    days_order.index(next(day for day in days_order if day in os.path.basename(x))),\n",
    "    'Afternoon' in os.path.basename(x)\n",
    "))\n",
    "\n",
    "# Combine all CSVs into one DataFrame in the sorted order\n",
    "df = pd.concat([pd.read_csv(file) for file in csv_files_sorted], ignore_index=True)\n",
    "\n",
    "print(\"Data loaded successfully.\\nShape:\", df.shape)\n",
    "print(\"Data Columns:\", df.columns.tolist())"
   ]
  },
  {
   "cell_type": "markdown",
   "metadata": {},
   "source": [
    "Inspect the loaded data."
   ]
  },
  {
   "cell_type": "code",
   "execution_count": 4,
   "metadata": {},
   "outputs": [
    {
     "data": {
      "text/html": [
       "<div>\n",
       "<style scoped>\n",
       "    .dataframe tbody tr th:only-of-type {\n",
       "        vertical-align: middle;\n",
       "    }\n",
       "\n",
       "    .dataframe tbody tr th {\n",
       "        vertical-align: top;\n",
       "    }\n",
       "\n",
       "    .dataframe thead th {\n",
       "        text-align: right;\n",
       "    }\n",
       "</style>\n",
       "<table border=\"1\" class=\"dataframe\">\n",
       "  <thead>\n",
       "    <tr style=\"text-align: right;\">\n",
       "      <th></th>\n",
       "      <th>Destination Port</th>\n",
       "      <th>Flow Duration</th>\n",
       "      <th>Total Fwd Packets</th>\n",
       "      <th>Total Backward Packets</th>\n",
       "      <th>Total Length of Fwd Packets</th>\n",
       "      <th>Total Length of Bwd Packets</th>\n",
       "      <th>Fwd Packet Length Max</th>\n",
       "      <th>Fwd Packet Length Min</th>\n",
       "      <th>Fwd Packet Length Mean</th>\n",
       "      <th>Fwd Packet Length Std</th>\n",
       "      <th>...</th>\n",
       "      <th>min_seg_size_forward</th>\n",
       "      <th>Active Mean</th>\n",
       "      <th>Active Std</th>\n",
       "      <th>Active Max</th>\n",
       "      <th>Active Min</th>\n",
       "      <th>Idle Mean</th>\n",
       "      <th>Idle Std</th>\n",
       "      <th>Idle Max</th>\n",
       "      <th>Idle Min</th>\n",
       "      <th>Label</th>\n",
       "    </tr>\n",
       "  </thead>\n",
       "  <tbody>\n",
       "    <tr>\n",
       "      <th>746827</th>\n",
       "      <td>443</td>\n",
       "      <td>32046067</td>\n",
       "      <td>2</td>\n",
       "      <td>0</td>\n",
       "      <td>74</td>\n",
       "      <td>0</td>\n",
       "      <td>37</td>\n",
       "      <td>37</td>\n",
       "      <td>37.000000</td>\n",
       "      <td>0.000000</td>\n",
       "      <td>...</td>\n",
       "      <td>32</td>\n",
       "      <td>0.0</td>\n",
       "      <td>0.0</td>\n",
       "      <td>0</td>\n",
       "      <td>0</td>\n",
       "      <td>0.0</td>\n",
       "      <td>0.0</td>\n",
       "      <td>0</td>\n",
       "      <td>0</td>\n",
       "      <td>BENIGN</td>\n",
       "    </tr>\n",
       "    <tr>\n",
       "      <th>946912</th>\n",
       "      <td>53</td>\n",
       "      <td>66073</td>\n",
       "      <td>4</td>\n",
       "      <td>4</td>\n",
       "      <td>176</td>\n",
       "      <td>428</td>\n",
       "      <td>44</td>\n",
       "      <td>44</td>\n",
       "      <td>44.000000</td>\n",
       "      <td>0.000000</td>\n",
       "      <td>...</td>\n",
       "      <td>20</td>\n",
       "      <td>0.0</td>\n",
       "      <td>0.0</td>\n",
       "      <td>0</td>\n",
       "      <td>0</td>\n",
       "      <td>0.0</td>\n",
       "      <td>0.0</td>\n",
       "      <td>0</td>\n",
       "      <td>0</td>\n",
       "      <td>BENIGN</td>\n",
       "    </tr>\n",
       "    <tr>\n",
       "      <th>2216843</th>\n",
       "      <td>53</td>\n",
       "      <td>60025</td>\n",
       "      <td>1</td>\n",
       "      <td>1</td>\n",
       "      <td>56</td>\n",
       "      <td>112</td>\n",
       "      <td>56</td>\n",
       "      <td>56</td>\n",
       "      <td>56.000000</td>\n",
       "      <td>0.000000</td>\n",
       "      <td>...</td>\n",
       "      <td>32</td>\n",
       "      <td>0.0</td>\n",
       "      <td>0.0</td>\n",
       "      <td>0</td>\n",
       "      <td>0</td>\n",
       "      <td>0.0</td>\n",
       "      <td>0.0</td>\n",
       "      <td>0</td>\n",
       "      <td>0</td>\n",
       "      <td>BENIGN</td>\n",
       "    </tr>\n",
       "    <tr>\n",
       "      <th>699389</th>\n",
       "      <td>53</td>\n",
       "      <td>47619</td>\n",
       "      <td>1</td>\n",
       "      <td>1</td>\n",
       "      <td>44</td>\n",
       "      <td>213</td>\n",
       "      <td>44</td>\n",
       "      <td>44</td>\n",
       "      <td>44.000000</td>\n",
       "      <td>0.000000</td>\n",
       "      <td>...</td>\n",
       "      <td>32</td>\n",
       "      <td>0.0</td>\n",
       "      <td>0.0</td>\n",
       "      <td>0</td>\n",
       "      <td>0</td>\n",
       "      <td>0.0</td>\n",
       "      <td>0.0</td>\n",
       "      <td>0</td>\n",
       "      <td>0</td>\n",
       "      <td>BENIGN</td>\n",
       "    </tr>\n",
       "    <tr>\n",
       "      <th>1170268</th>\n",
       "      <td>80</td>\n",
       "      <td>99329635</td>\n",
       "      <td>6</td>\n",
       "      <td>7</td>\n",
       "      <td>320</td>\n",
       "      <td>11595</td>\n",
       "      <td>302</td>\n",
       "      <td>0</td>\n",
       "      <td>53.333333</td>\n",
       "      <td>121.856746</td>\n",
       "      <td>...</td>\n",
       "      <td>20</td>\n",
       "      <td>13973.0</td>\n",
       "      <td>0.0</td>\n",
       "      <td>13973</td>\n",
       "      <td>13973</td>\n",
       "      <td>99300000.0</td>\n",
       "      <td>0.0</td>\n",
       "      <td>99300000</td>\n",
       "      <td>99300000</td>\n",
       "      <td>DoS Hulk</td>\n",
       "    </tr>\n",
       "    <tr>\n",
       "      <th>800686</th>\n",
       "      <td>443</td>\n",
       "      <td>305034</td>\n",
       "      <td>22</td>\n",
       "      <td>45</td>\n",
       "      <td>871</td>\n",
       "      <td>63051</td>\n",
       "      <td>389</td>\n",
       "      <td>0</td>\n",
       "      <td>39.590909</td>\n",
       "      <td>99.163482</td>\n",
       "      <td>...</td>\n",
       "      <td>32</td>\n",
       "      <td>0.0</td>\n",
       "      <td>0.0</td>\n",
       "      <td>0</td>\n",
       "      <td>0</td>\n",
       "      <td>0.0</td>\n",
       "      <td>0.0</td>\n",
       "      <td>0</td>\n",
       "      <td>0</td>\n",
       "      <td>BENIGN</td>\n",
       "    </tr>\n",
       "    <tr>\n",
       "      <th>1434488</th>\n",
       "      <td>58409</td>\n",
       "      <td>18702</td>\n",
       "      <td>2</td>\n",
       "      <td>1</td>\n",
       "      <td>280</td>\n",
       "      <td>6</td>\n",
       "      <td>274</td>\n",
       "      <td>6</td>\n",
       "      <td>140.000000</td>\n",
       "      <td>189.504617</td>\n",
       "      <td>...</td>\n",
       "      <td>20</td>\n",
       "      <td>0.0</td>\n",
       "      <td>0.0</td>\n",
       "      <td>0</td>\n",
       "      <td>0</td>\n",
       "      <td>0.0</td>\n",
       "      <td>0.0</td>\n",
       "      <td>0</td>\n",
       "      <td>0</td>\n",
       "      <td>BENIGN</td>\n",
       "    </tr>\n",
       "    <tr>\n",
       "      <th>1968368</th>\n",
       "      <td>8088</td>\n",
       "      <td>48</td>\n",
       "      <td>2</td>\n",
       "      <td>0</td>\n",
       "      <td>4</td>\n",
       "      <td>0</td>\n",
       "      <td>2</td>\n",
       "      <td>2</td>\n",
       "      <td>2.000000</td>\n",
       "      <td>0.000000</td>\n",
       "      <td>...</td>\n",
       "      <td>24</td>\n",
       "      <td>0.0</td>\n",
       "      <td>0.0</td>\n",
       "      <td>0</td>\n",
       "      <td>0</td>\n",
       "      <td>0.0</td>\n",
       "      <td>0.0</td>\n",
       "      <td>0</td>\n",
       "      <td>0</td>\n",
       "      <td>BENIGN</td>\n",
       "    </tr>\n",
       "    <tr>\n",
       "      <th>934343</th>\n",
       "      <td>53</td>\n",
       "      <td>39727</td>\n",
       "      <td>4</td>\n",
       "      <td>2</td>\n",
       "      <td>120</td>\n",
       "      <td>248</td>\n",
       "      <td>30</td>\n",
       "      <td>30</td>\n",
       "      <td>30.000000</td>\n",
       "      <td>0.000000</td>\n",
       "      <td>...</td>\n",
       "      <td>20</td>\n",
       "      <td>0.0</td>\n",
       "      <td>0.0</td>\n",
       "      <td>0</td>\n",
       "      <td>0</td>\n",
       "      <td>0.0</td>\n",
       "      <td>0.0</td>\n",
       "      <td>0</td>\n",
       "      <td>0</td>\n",
       "      <td>BENIGN</td>\n",
       "    </tr>\n",
       "    <tr>\n",
       "      <th>693547</th>\n",
       "      <td>53911</td>\n",
       "      <td>1004472</td>\n",
       "      <td>2</td>\n",
       "      <td>0</td>\n",
       "      <td>0</td>\n",
       "      <td>0</td>\n",
       "      <td>0</td>\n",
       "      <td>0</td>\n",
       "      <td>0.000000</td>\n",
       "      <td>0.000000</td>\n",
       "      <td>...</td>\n",
       "      <td>20</td>\n",
       "      <td>0.0</td>\n",
       "      <td>0.0</td>\n",
       "      <td>0</td>\n",
       "      <td>0</td>\n",
       "      <td>0.0</td>\n",
       "      <td>0.0</td>\n",
       "      <td>0</td>\n",
       "      <td>0</td>\n",
       "      <td>BENIGN</td>\n",
       "    </tr>\n",
       "  </tbody>\n",
       "</table>\n",
       "<p>10 rows × 79 columns</p>\n",
       "</div>"
      ],
      "text/plain": [
       "          Destination Port   Flow Duration   Total Fwd Packets  \\\n",
       "746827                 443        32046067                   2   \n",
       "946912                  53           66073                   4   \n",
       "2216843                 53           60025                   1   \n",
       "699389                  53           47619                   1   \n",
       "1170268                 80        99329635                   6   \n",
       "800686                 443          305034                  22   \n",
       "1434488              58409           18702                   2   \n",
       "1968368               8088              48                   2   \n",
       "934343                  53           39727                   4   \n",
       "693547               53911         1004472                   2   \n",
       "\n",
       "          Total Backward Packets  Total Length of Fwd Packets  \\\n",
       "746827                         0                           74   \n",
       "946912                         4                          176   \n",
       "2216843                        1                           56   \n",
       "699389                         1                           44   \n",
       "1170268                        7                          320   \n",
       "800686                        45                          871   \n",
       "1434488                        1                          280   \n",
       "1968368                        0                            4   \n",
       "934343                         2                          120   \n",
       "693547                         0                            0   \n",
       "\n",
       "          Total Length of Bwd Packets   Fwd Packet Length Max  \\\n",
       "746827                              0                      37   \n",
       "946912                            428                      44   \n",
       "2216843                           112                      56   \n",
       "699389                            213                      44   \n",
       "1170268                         11595                     302   \n",
       "800686                          63051                     389   \n",
       "1434488                             6                     274   \n",
       "1968368                             0                       2   \n",
       "934343                            248                      30   \n",
       "693547                              0                       0   \n",
       "\n",
       "          Fwd Packet Length Min   Fwd Packet Length Mean  \\\n",
       "746827                       37                37.000000   \n",
       "946912                       44                44.000000   \n",
       "2216843                      56                56.000000   \n",
       "699389                       44                44.000000   \n",
       "1170268                       0                53.333333   \n",
       "800686                        0                39.590909   \n",
       "1434488                       6               140.000000   \n",
       "1968368                       2                 2.000000   \n",
       "934343                       30                30.000000   \n",
       "693547                        0                 0.000000   \n",
       "\n",
       "          Fwd Packet Length Std  ...   min_seg_size_forward  Active Mean  \\\n",
       "746827                 0.000000  ...                     32          0.0   \n",
       "946912                 0.000000  ...                     20          0.0   \n",
       "2216843                0.000000  ...                     32          0.0   \n",
       "699389                 0.000000  ...                     32          0.0   \n",
       "1170268              121.856746  ...                     20      13973.0   \n",
       "800686                99.163482  ...                     32          0.0   \n",
       "1434488              189.504617  ...                     20          0.0   \n",
       "1968368                0.000000  ...                     24          0.0   \n",
       "934343                 0.000000  ...                     20          0.0   \n",
       "693547                 0.000000  ...                     20          0.0   \n",
       "\n",
       "          Active Std   Active Max   Active Min   Idle Mean   Idle Std  \\\n",
       "746827           0.0            0            0         0.0        0.0   \n",
       "946912           0.0            0            0         0.0        0.0   \n",
       "2216843          0.0            0            0         0.0        0.0   \n",
       "699389           0.0            0            0         0.0        0.0   \n",
       "1170268          0.0        13973        13973  99300000.0        0.0   \n",
       "800686           0.0            0            0         0.0        0.0   \n",
       "1434488          0.0            0            0         0.0        0.0   \n",
       "1968368          0.0            0            0         0.0        0.0   \n",
       "934343           0.0            0            0         0.0        0.0   \n",
       "693547           0.0            0            0         0.0        0.0   \n",
       "\n",
       "          Idle Max   Idle Min     Label  \n",
       "746827           0          0    BENIGN  \n",
       "946912           0          0    BENIGN  \n",
       "2216843          0          0    BENIGN  \n",
       "699389           0          0    BENIGN  \n",
       "1170268   99300000   99300000  DoS Hulk  \n",
       "800686           0          0    BENIGN  \n",
       "1434488          0          0    BENIGN  \n",
       "1968368          0          0    BENIGN  \n",
       "934343           0          0    BENIGN  \n",
       "693547           0          0    BENIGN  \n",
       "\n",
       "[10 rows x 79 columns]"
      ]
     },
     "execution_count": 23,
     "metadata": {},
     "output_type": "execute_result"
    }
   ],
   "source": [
    "df.sample(n=10, random_state=42)"
   ]
  },
  {
   "cell_type": "markdown",
   "metadata": {},
   "source": [
    "### Clean the Data:\n",
    "- Remove duplicates.\n",
    "- Clean column names.\n",
    "- Handle missing and infinite values.\n",
    "\n",
    "#### Median imputation is used because:\n",
    "- It is **robust to outliers**, ensuring extreme values don't affect the imputed result.\n",
    "- It helps **maintain distribution** by filling missing values with a representative value."
   ]
  },
  {
   "cell_type": "code",
   "execution_count": 5,
   "metadata": {},
   "outputs": [
    {
     "name": "stdout",
     "output_type": "stream",
     "text": [
      "Total missing values in the DataFrame: 1358\n",
      "\n",
      "Number of missing values in the first 20 columns:\n",
      " Destination Port                  0\n",
      " Flow Duration                     0\n",
      " Total Fwd Packets                 0\n",
      " Total Backward Packets            0\n",
      "Total Length of Fwd Packets        0\n",
      " Total Length of Bwd Packets       0\n",
      " Fwd Packet Length Max             0\n",
      " Fwd Packet Length Min             0\n",
      " Fwd Packet Length Mean            0\n",
      " Fwd Packet Length Std             0\n",
      "Bwd Packet Length Max              0\n",
      " Bwd Packet Length Min             0\n",
      " Bwd Packet Length Mean            0\n",
      " Bwd Packet Length Std             0\n",
      "Flow Bytes/s                    1358\n",
      " Flow Packets/s                    0\n",
      " Flow IAT Mean                     0\n",
      " Flow IAT Std                      0\n",
      " Flow IAT Max                      0\n",
      " Flow IAT Min                      0\n",
      "dtype: int64\n",
      "\n",
      "Total missing values after cleaning: 0\n",
      "\n",
      "Data Columns: ['Destination Port', 'Flow Duration', 'Total Fwd Packets', 'Total Backward Packets', 'Total Length of Fwd Packets', 'Total Length of Bwd Packets', 'Fwd Packet Length Max', 'Fwd Packet Length Min', 'Fwd Packet Length Mean', 'Fwd Packet Length Std', 'Bwd Packet Length Max', 'Bwd Packet Length Min', 'Bwd Packet Length Mean', 'Bwd Packet Length Std', 'Flow Bytes/s', 'Flow Packets/s', 'Flow IAT Mean', 'Flow IAT Std', 'Flow IAT Max', 'Flow IAT Min', 'Fwd IAT Total', 'Fwd IAT Mean', 'Fwd IAT Std', 'Fwd IAT Max', 'Fwd IAT Min', 'Bwd IAT Total', 'Bwd IAT Mean', 'Bwd IAT Std', 'Bwd IAT Max', 'Bwd IAT Min', 'Fwd PSH Flags', 'Bwd PSH Flags', 'Fwd URG Flags', 'Bwd URG Flags', 'Fwd Header Length', 'Bwd Header Length', 'Fwd Packets/s', 'Bwd Packets/s', 'Min Packet Length', 'Max Packet Length', 'Packet Length Mean', 'Packet Length Std', 'Packet Length Variance', 'FIN Flag Count', 'SYN Flag Count', 'RST Flag Count', 'PSH Flag Count', 'ACK Flag Count', 'URG Flag Count', 'CWE Flag Count', 'ECE Flag Count', 'Down/Up Ratio', 'Average Packet Size', 'Avg Fwd Segment Size', 'Avg Bwd Segment Size', 'Fwd Header Length.1', 'Fwd Avg Bytes/Bulk', 'Fwd Avg Packets/Bulk', 'Fwd Avg Bulk Rate', 'Bwd Avg Bytes/Bulk', 'Bwd Avg Packets/Bulk', 'Bwd Avg Bulk Rate', 'Subflow Fwd Packets', 'Subflow Fwd Bytes', 'Subflow Bwd Packets', 'Subflow Bwd Bytes', 'Init_Win_bytes_forward', 'Init_Win_bytes_backward', 'act_data_pkt_fwd', 'min_seg_size_forward', 'Active Mean', 'Active Std', 'Active Max', 'Active Min', 'Idle Mean', 'Idle Std', 'Idle Max', 'Idle Min', 'Label']\n"
     ]
    }
   ],
   "source": [
    "import numpy as np\n",
    "\n",
    "# Check for missing values\n",
    "print(f\"Total missing values in the DataFrame: {df.isnull().sum().sum()}\\n\")\n",
    "print(f\"Number of missing values in the first 20 columns:\\n{df.isnull().sum().head(20)}\\n\")\n",
    "\n",
    "# Remove spaces at the beginning and at the end of the column names\n",
    "df.columns = df.columns.str.strip()\n",
    "\n",
    "# Replace infinite values with NaN\n",
    "df.replace([np.inf, -np.inf], np.nan, inplace=True)\n",
    "\n",
    "# Use median imputation\n",
    "for col in df.select_dtypes(include=[np.number]).columns:\n",
    "    df[col] = df[col].fillna(df[col].median())\n",
    "    \n",
    "# Check for missing values after cleaning\n",
    "print(f\"Total missing values after cleaning: {df.isnull().sum().sum()}\\n\")\n",
    "\n",
    "print(\"Data Columns:\", df.columns.tolist())"
   ]
  },
  {
   "cell_type": "markdown",
   "metadata": {},
   "source": [
    "### Relabeling:\n",
    "\n",
    "Total count of all attack categories in the `Label` column."
   ]
  },
  {
   "cell_type": "code",
   "execution_count": 6,
   "metadata": {},
   "outputs": [
    {
     "name": "stdout",
     "output_type": "stream",
     "text": [
      "<bound method Series.sum of Label\n",
      "BENIGN                        2273097\n",
      "DoS Hulk                       231073\n",
      "PortScan                       158930\n",
      "DDoS                           128027\n",
      "DoS GoldenEye                   10293\n",
      "FTP-Patator                      7938\n",
      "SSH-Patator                      5897\n",
      "DoS slowloris                    5796\n",
      "DoS Slowhttptest                 5499\n",
      "Bot                              1966\n",
      "Web Attack � Brute Force         1507\n",
      "Web Attack � XSS                  652\n",
      "Infiltration                       36\n",
      "Web Attack � Sql Injection         21\n",
      "Heartbleed                         11\n",
      "Name: count, dtype: int64>\n"
     ]
    }
   ],
   "source": [
    "print(df['Label'].value_counts().sum)"
   ]
  },
  {
   "cell_type": "markdown",
   "metadata": {},
   "source": [
    "#### Mapping and relabeling the attack types: \n",
    "`BENIGN` is labeled as `0` (indicating no attack), and all other attack types are labeled as `1` (indicating an attack)."
   ]
  },
  {
   "cell_type": "code",
   "execution_count": 7,
   "metadata": {},
   "outputs": [],
   "source": [
    "df['Label'] = np.where(df['Label'].isin(['BENIGN']), 0, 1)"
   ]
  },
  {
   "cell_type": "markdown",
   "metadata": {},
   "source": [
    "Total count of all relabeled attack categories."
   ]
  },
  {
   "cell_type": "code",
   "execution_count": 8,
   "metadata": {},
   "outputs": [
    {
     "name": "stdout",
     "output_type": "stream",
     "text": [
      "Label\n",
      "0    2273097\n",
      "1     557646\n",
      "Name: count, dtype: int64\n"
     ]
    }
   ],
   "source": [
    "print(df['Label'].value_counts())"
   ]
  },
  {
   "cell_type": "markdown",
   "metadata": {},
   "source": [
    "Visualizing the Distribution of Labels with a Count Plot."
   ]
  },
  {
   "cell_type": "code",
   "execution_count": 9,
   "metadata": {},
   "outputs": [
    {
     "data": {
      "image/png": "[encoded data removed]",
      "text/plain": [
       "<Figure size 640x480 with 1 Axes>"
      ]
     },
     "metadata": {},
     "output_type": "display_data"
    }
   ],
   "source": [
    "import seaborn as sns\n",
    "import matplotlib.pyplot as plt\n",
    "\n",
    "# Set the style to dark background with light text and lines\n",
    "plt.style.use('dark_background')\n",
    "\n",
    "sns.countplot(x='Label', data=df, palette=['b', 'r'], hue='Label', legend=False)\n",
    "\n",
    "plt.show()"
   ]
  },
  {
   "cell_type": "markdown",
   "metadata": {},
   "source": [
    "### Separating features and target:"
   ]
  },
  {
   "cell_type": "code",
   "execution_count": 10,
   "metadata": {},
   "outputs": [],
   "source": [
    "X = df.drop('Label', axis=1)\n",
    "y = df['Label']"
   ]
  },
  {
   "cell_type": "markdown",
   "metadata": {},
   "source": [
    "Inspect sample features."
   ]
  },
  {
   "cell_type": "code",
   "execution_count": 11,
   "metadata": {},
   "outputs": [
    {
     "data": {
      "text/html": [
       "<div>\n",
       "<style scoped>\n",
       "    .dataframe tbody tr th:only-of-type {\n",
       "        vertical-align: middle;\n",
       "    }\n",
       "\n",
       "    .dataframe tbody tr th {\n",
       "        vertical-align: top;\n",
       "    }\n",
       "\n",
       "    .dataframe thead th {\n",
       "        text-align: right;\n",
       "    }\n",
       "</style>\n",
       "<table border=\"1\" class=\"dataframe\">\n",
       "  <thead>\n",
       "    <tr style=\"text-align: right;\">\n",
       "      <th></th>\n",
       "      <th>Destination Port</th>\n",
       "      <th>Flow Duration</th>\n",
       "      <th>Total Fwd Packets</th>\n",
       "      <th>Total Backward Packets</th>\n",
       "      <th>Total Length of Fwd Packets</th>\n",
       "      <th>Total Length of Bwd Packets</th>\n",
       "      <th>Fwd Packet Length Max</th>\n",
       "      <th>Fwd Packet Length Min</th>\n",
       "      <th>Fwd Packet Length Mean</th>\n",
       "      <th>Fwd Packet Length Std</th>\n",
       "      <th>...</th>\n",
       "      <th>act_data_pkt_fwd</th>\n",
       "      <th>min_seg_size_forward</th>\n",
       "      <th>Active Mean</th>\n",
       "      <th>Active Std</th>\n",
       "      <th>Active Max</th>\n",
       "      <th>Active Min</th>\n",
       "      <th>Idle Mean</th>\n",
       "      <th>Idle Std</th>\n",
       "      <th>Idle Max</th>\n",
       "      <th>Idle Min</th>\n",
       "    </tr>\n",
       "  </thead>\n",
       "  <tbody>\n",
       "    <tr>\n",
       "      <th>746827</th>\n",
       "      <td>443</td>\n",
       "      <td>32046067</td>\n",
       "      <td>2</td>\n",
       "      <td>0</td>\n",
       "      <td>74</td>\n",
       "      <td>0</td>\n",
       "      <td>37</td>\n",
       "      <td>37</td>\n",
       "      <td>37.000000</td>\n",
       "      <td>0.000000</td>\n",
       "      <td>...</td>\n",
       "      <td>1</td>\n",
       "      <td>32</td>\n",
       "      <td>0.0</td>\n",
       "      <td>0.0</td>\n",
       "      <td>0</td>\n",
       "      <td>0</td>\n",
       "      <td>0.0</td>\n",
       "      <td>0.0</td>\n",
       "      <td>0</td>\n",
       "      <td>0</td>\n",
       "    </tr>\n",
       "    <tr>\n",
       "      <th>946912</th>\n",
       "      <td>53</td>\n",
       "      <td>66073</td>\n",
       "      <td>4</td>\n",
       "      <td>4</td>\n",
       "      <td>176</td>\n",
       "      <td>428</td>\n",
       "      <td>44</td>\n",
       "      <td>44</td>\n",
       "      <td>44.000000</td>\n",
       "      <td>0.000000</td>\n",
       "      <td>...</td>\n",
       "      <td>3</td>\n",
       "      <td>20</td>\n",
       "      <td>0.0</td>\n",
       "      <td>0.0</td>\n",
       "      <td>0</td>\n",
       "      <td>0</td>\n",
       "      <td>0.0</td>\n",
       "      <td>0.0</td>\n",
       "      <td>0</td>\n",
       "      <td>0</td>\n",
       "    </tr>\n",
       "    <tr>\n",
       "      <th>2216843</th>\n",
       "      <td>53</td>\n",
       "      <td>60025</td>\n",
       "      <td>1</td>\n",
       "      <td>1</td>\n",
       "      <td>56</td>\n",
       "      <td>112</td>\n",
       "      <td>56</td>\n",
       "      <td>56</td>\n",
       "      <td>56.000000</td>\n",
       "      <td>0.000000</td>\n",
       "      <td>...</td>\n",
       "      <td>0</td>\n",
       "      <td>32</td>\n",
       "      <td>0.0</td>\n",
       "      <td>0.0</td>\n",
       "      <td>0</td>\n",
       "      <td>0</td>\n",
       "      <td>0.0</td>\n",
       "      <td>0.0</td>\n",
       "      <td>0</td>\n",
       "      <td>0</td>\n",
       "    </tr>\n",
       "    <tr>\n",
       "      <th>699389</th>\n",
       "      <td>53</td>\n",
       "      <td>47619</td>\n",
       "      <td>1</td>\n",
       "      <td>1</td>\n",
       "      <td>44</td>\n",
       "      <td>213</td>\n",
       "      <td>44</td>\n",
       "      <td>44</td>\n",
       "      <td>44.000000</td>\n",
       "      <td>0.000000</td>\n",
       "      <td>...</td>\n",
       "      <td>0</td>\n",
       "      <td>32</td>\n",
       "      <td>0.0</td>\n",
       "      <td>0.0</td>\n",
       "      <td>0</td>\n",
       "      <td>0</td>\n",
       "      <td>0.0</td>\n",
       "      <td>0.0</td>\n",
       "      <td>0</td>\n",
       "      <td>0</td>\n",
       "    </tr>\n",
       "    <tr>\n",
       "      <th>1170268</th>\n",
       "      <td>80</td>\n",
       "      <td>99329635</td>\n",
       "      <td>6</td>\n",
       "      <td>7</td>\n",
       "      <td>320</td>\n",
       "      <td>11595</td>\n",
       "      <td>302</td>\n",
       "      <td>0</td>\n",
       "      <td>53.333333</td>\n",
       "      <td>121.856746</td>\n",
       "      <td>...</td>\n",
       "      <td>3</td>\n",
       "      <td>20</td>\n",
       "      <td>13973.0</td>\n",
       "      <td>0.0</td>\n",
       "      <td>13973</td>\n",
       "      <td>13973</td>\n",
       "      <td>99300000.0</td>\n",
       "      <td>0.0</td>\n",
       "      <td>99300000</td>\n",
       "      <td>99300000</td>\n",
       "    </tr>\n",
       "  </tbody>\n",
       "</table>\n",
       "<p>5 rows × 78 columns</p>\n",
       "</div>"
      ],
      "text/plain": [
       "         Destination Port  Flow Duration  Total Fwd Packets  \\\n",
       "746827                443       32046067                  2   \n",
       "946912                 53          66073                  4   \n",
       "2216843                53          60025                  1   \n",
       "699389                 53          47619                  1   \n",
       "1170268                80       99329635                  6   \n",
       "\n",
       "         Total Backward Packets  Total Length of Fwd Packets  \\\n",
       "746827                        0                           74   \n",
       "946912                        4                          176   \n",
       "2216843                       1                           56   \n",
       "699389                        1                           44   \n",
       "1170268                       7                          320   \n",
       "\n",
       "         Total Length of Bwd Packets  Fwd Packet Length Max  \\\n",
       "746827                             0                     37   \n",
       "946912                           428                     44   \n",
       "2216843                          112                     56   \n",
       "699389                           213                     44   \n",
       "1170268                        11595                    302   \n",
       "\n",
       "         Fwd Packet Length Min  Fwd Packet Length Mean  Fwd Packet Length Std  \\\n",
       "746827                      37               37.000000               0.000000   \n",
       "946912                      44               44.000000               0.000000   \n",
       "2216843                     56               56.000000               0.000000   \n",
       "699389                      44               44.000000               0.000000   \n",
       "1170268                      0               53.333333             121.856746   \n",
       "\n",
       "         ...  act_data_pkt_fwd  min_seg_size_forward  Active Mean  Active Std  \\\n",
       "746827   ...                 1                    32          0.0         0.0   \n",
       "946912   ...                 3                    20          0.0         0.0   \n",
       "2216843  ...                 0                    32          0.0         0.0   \n",
       "699389   ...                 0                    32          0.0         0.0   \n",
       "1170268  ...                 3                    20      13973.0         0.0   \n",
       "\n",
       "         Active Max  Active Min   Idle Mean  Idle Std  Idle Max  Idle Min  \n",
       "746827            0           0         0.0       0.0         0         0  \n",
       "946912            0           0         0.0       0.0         0         0  \n",
       "2216843           0           0         0.0       0.0         0         0  \n",
       "699389            0           0         0.0       0.0         0         0  \n",
       "1170268       13973       13973  99300000.0       0.0  99300000  99300000  \n",
       "\n",
       "[5 rows x 78 columns]"
      ]
     },
     "execution_count": 11,
     "metadata": {},
     "output_type": "execute_result"
    }
   ],
   "source": [
    "X.sample(5, random_state=42)"
   ]
  },
  {
   "cell_type": "markdown",
   "metadata": {},
   "source": [
    "Inspect sample targets."
   ]
  },
  {
   "cell_type": "code",
   "execution_count": 12,
   "metadata": {},
   "outputs": [
    {
     "data": {
      "text/plain": [
       "746827     0\n",
       "946912     0\n",
       "2216843    0\n",
       "699389     0\n",
       "1170268    1\n",
       "Name: Label, dtype: int64"
      ]
     },
     "execution_count": 12,
     "metadata": {},
     "output_type": "execute_result"
    }
   ],
   "source": [
    "y.sample(5, random_state=42)"
   ]
  },
  {
   "cell_type": "markdown",
   "metadata": {},
   "source": [
    "### Splitting the dataset into training and testing sets:"
   ]
  },
  {
   "cell_type": "code",
   "execution_count": 13,
   "metadata": {},
   "outputs": [],
   "source": [
    "from sklearn.model_selection import train_test_split\n",
    "\n",
    "X_train, X_test, y_train, y_test = train_test_split(X, y, test_size=0.3, random_state=42, stratify=y)"
   ]
  },
  {
   "cell_type": "markdown",
   "metadata": {},
   "source": [
    "### Normalizing data:"
   ]
  },
  {
   "cell_type": "code",
   "execution_count": 14,
   "metadata": {},
   "outputs": [],
   "source": [
    "from sklearn.preprocessing import StandardScaler\n",
    "\n",
    "# Initialize the scaler\n",
    "scaler = StandardScaler()\n",
    "\n",
    "# Fit and transform the training data, and transform the test data\n",
    "X_train = scaler.fit_transform(X_train)\n",
    "X_test = scaler.transform(X_test)"
   ]
  },
  {
   "cell_type": "markdown",
   "metadata": {},
   "source": [
    "### Applying PCA for dimensionality reduction:"
   ]
  },
  {
   "cell_type": "code",
   "execution_count": 15,
   "metadata": {},
   "outputs": [
    {
     "name": "stdout",
     "output_type": "stream",
     "text": [
      "Original features count: 78\n",
      "Reduced features count: 25\n"
     ]
    }
   ],
   "source": [
    "from sklearn.decomposition import PCA\n",
    "\n",
    "# Define the desired explained variance threshold (e.g., 95%)\n",
    "explained_variance_threshold = 0.95\n",
    "\n",
    "# Fit PCA without specifying the number of components to compute all components\n",
    "pca = PCA()\n",
    "pca.fit(X_train)\n",
    "\n",
    "# Calculate the cumulative explained variance\n",
    "cumulative_variance = pca.explained_variance_ratio_.cumsum()\n",
    "\n",
    "# Find the number of components that meet the threshold\n",
    "n_components_best = (cumulative_variance >= explained_variance_threshold).argmax() + 1\n",
    "\n",
    "print(f\"Original features count: {X_train.shape[1]}\")\n",
    "\n",
    "# Apply PCA with the optimal number of components\n",
    "pca = PCA(n_components=n_components_best)\n",
    "X_train = pca.fit_transform(X_train)\n",
    "\n",
    "# Transform the test data using the same PCA model\n",
    "X_test = pca.transform(X_test)\n",
    "\n",
    "print(f\"Reduced features count: {X_train.shape[1]}\")"
   ]
  },
  {
   "cell_type": "markdown",
   "metadata": {},
   "source": [
    "### Plotting the cumulative explained variance:"
   ]
  },
  {
   "cell_type": "code",
   "execution_count": 16,
   "metadata": {},
   "outputs": [
    {
     "data": {
      "image/png": "[encoded data removed]",
      "text/plain": [
       "<Figure size 1000x400 with 1 Axes>"
      ]
     },
     "metadata": {},
     "output_type": "display_data"
    }
   ],
   "source": [
    "import matplotlib.pyplot as plt\n",
    "\n",
    "# Set the style to dark background with light text and lines\n",
    "plt.style.use('dark_background')\n",
    "\n",
    "plt.figure(figsize=(10, 4))\n",
    "plt.plot(range(1, len(cumulative_variance) + 1), cumulative_variance, color='b', marker='*', linestyle='dotted')\n",
    "plt.axhline(y=explained_variance_threshold, color='r', linestyle='-')\n",
    "plt.axvline(x=n_components_best, color='g', linestyle='-')\n",
    "plt.title('Cumulative Explained Variance vs. Number of Components')\n",
    "plt.xlabel('Number of Components')\n",
    "plt.ylabel('Cumulative Explained Variance')\n",
    "plt.grid()\n",
    "plt.show()\n"
   ]
  },
  {
   "cell_type": "markdown",
   "metadata": {},
   "source": [
    "### Creating Sequential Data for Time Series Classification:"
   ]
  },
  {
   "cell_type": "code",
   "execution_count": 17,
   "metadata": {},
   "outputs": [
    {
     "name": "stdout",
     "output_type": "stream",
     "text": [
      "\n",
      "Data shapes after processing:\n",
      "X_train_seq shape: (19815, 100, 25)\n",
      "X_test_seq shape: (8492, 100, 25)\n",
      "y_train_seq shape: (19815,)\n",
      "y_test_seq shape: (8492,)\n"
     ]
    }
   ],
   "source": [
    "def create_sequences(X, y, sequence_length):\n",
    "    sequences_X = [X[i:i + sequence_length] for i in range(0, len(X) - sequence_length + 1, sequence_length)]\n",
    "    # The corresponding labels for each sequence (using the last label in the sequence)\n",
    "    sequences_y = [y.iloc[i + sequence_length - 1] for i in range(0, len(X) - sequence_length + 1, sequence_length)]\n",
    "    return np.array(sequences_X), np.array(sequences_y)\n",
    "\n",
    "sequence_length = 100\n",
    "\n",
    "# Create sequential data for training and testing\n",
    "X_train_seq, y_train_seq = create_sequences(X_train, y_train, sequence_length)\n",
    "X_test_seq, y_test_seq = create_sequences(X_test, y_test, sequence_length)\n",
    "\n",
    "print(\"\\nData shapes after processing:\")\n",
    "print(f\"X_train_seq shape: {X_train_seq.shape}\\nX_test_seq shape: {X_test_seq.shape}\")\n",
    "print(f\"y_train_seq shape: {y_train_seq.shape}\\ny_test_seq shape: {y_test_seq.shape}\")"
   ]
  },
  {
   "cell_type": "markdown",
   "metadata": {},
   "source": [
    "### Model Training:\n",
    "\n",
    "#### The model architecture consists of:\n",
    "- **Two Bidirectional LSTM layers**:\n",
    "  - 128 units for the first layer with `return_sequences=True`.\n",
    "  - 64 units for the second layer with `return_sequences=False`.\n",
    "- **Dropout Layer**: Helps prevent overfitting by randomly deactivating neurons.\n",
    "- **Dense Layers**:\n",
    "  - First dense layer with 64 units and `LeakyReLU` activation for flexible learning of non-linear patterns.\n",
    "  - Output dense layer with 1 unit and `sigmoid` activation for binary classification.\n",
    "- **Optimizer Search**: Either `adam` or `rmsprop` is used as optimizers."
   ]
  },
  {
   "cell_type": "code",
   "execution_count": 18,
   "metadata": {},
   "outputs": [
    {
     "name": "stdout",
     "output_type": "stream",
     "text": [
      "Trial 2 Complete [00h 17m 44s]\n",
      "val_accuracy: 0.9516015350818634\n",
      "\n",
      "Best val_accuracy So Far: 0.9560762941837311\n",
      "Total elapsed time: 00h 41m 02s\n",
      "Epoch 1/30\n",
      "620/620 [==============================] - 74s 115ms/step - loss: 0.0658 - accuracy: 0.9713 - val_loss: 0.1203 - val_accuracy: 0.9500\n",
      "Epoch 2/30\n",
      "620/620 [==============================] - 73s 117ms/step - loss: 0.0552 - accuracy: 0.9764 - val_loss: 0.1266 - val_accuracy: 0.9512\n",
      "Epoch 3/30\n",
      "620/620 [==============================] - 75s 121ms/step - loss: 0.0451 - accuracy: 0.9824 - val_loss: 0.1442 - val_accuracy: 0.9498\n",
      "Epoch 4/30\n",
      "620/620 [==============================] - 76s 122ms/step - loss: 0.0329 - accuracy: 0.9871 - val_loss: 0.1772 - val_accuracy: 0.9512\n"
     ]
    }
   ],
   "source": [
    "import tensorflow as tf\n",
    "from tensorflow.keras.models import Sequential\n",
    "from tensorflow.keras.layers import LSTM, Bidirectional, Dense, Dropout\n",
    "import keras_tuner as kt\n",
    "from keras_tuner import HyperModel\n",
    "\n",
    "class LSTMHyperModel(HyperModel):\n",
    "    def build(self, hp):\n",
    "        model = Sequential()\n",
    "        \n",
    "        model.add(Bidirectional(LSTM(128, return_sequences=True, activation='tanh', input_shape=(X_train_seq.shape[1], X_train_seq.shape[2]))))\n",
    "        model.add(Bidirectional(LSTM(64, return_sequences=False, activation='tanh')))\n",
    "        model.add(Dropout(0.2)) # Dropout layer for regularization\n",
    "        model.add(Dense(64, activation='LeakyReLU'))\n",
    "        model.add(Dense(1, activation='sigmoid')) # Single output for binary classification\n",
    "        \n",
    "        model.compile(optimizer=hp.Choice('optimizer', values=['adam', 'rmsprop']),\n",
    "                      loss='binary_crossentropy', metrics=['accuracy'])\n",
    "        return model\n",
    "\n",
    "# Initialize Keras Tuner with RandomSearch\n",
    "tuner = kt.RandomSearch(LSTMHyperModel(), objective='val_accuracy', max_trials=5, executions_per_trial=2)\n",
    "\n",
    "# Implement EarlyStopping to prevent overfitting\n",
    "early_stopping = tf.keras.callbacks.EarlyStopping(monitor='val_loss', patience=3, restore_best_weights=True)\n",
    "\n",
    "# Search for the best hyperparameters\n",
    "tuner.search(X_train_seq, y_train_seq, epochs=10, validation_data=(X_test_seq, y_test_seq), callbacks=[early_stopping])\n",
    "\n",
    "# Get the best model\n",
    "best_model = tuner.get_best_models()[0]\n",
    "\n",
    "# Train the best model\n",
    "history = best_model.fit(X_train_seq, y_train_seq, validation_data=(X_test_seq, y_test_seq), epochs= 30, batch_size=32, callbacks=[early_stopping])"
   ]
  },
  {
   "cell_type": "markdown",
   "metadata": {},
   "source": [
    "### Model Evaluation:\n",
    "\n",
    "Predict probabilities."
   ]
  },
  {
   "cell_type": "code",
   "execution_count": 19,
   "metadata": {},
   "outputs": [
    {
     "name": "stdout",
     "output_type": "stream",
     "text": [
      "266/266 [==============================] - 10s 36ms/step\n"
     ]
    }
   ],
   "source": [
    "from sklearn.preprocessing import Binarizer\n",
    "\n",
    "# Initialize the Binarizer with a custom threshold (default is 0.0)\n",
    "binarizer = Binarizer(threshold=0.5)\n",
    "\n",
    "y_pred_prob = best_model.predict(X_test_seq)\n",
    "\n",
    "# Apply binarizer to the \n",
    "y_pred = binarizer.fit_transform(y_pred_prob.reshape(-1, 1)).flatten()"
   ]
  },
  {
   "cell_type": "markdown",
   "metadata": {},
   "source": [
    "#### Calculate Evaluation Metrics:\n",
    "\n",
    "The evaluation results show that the model performs well on the test set.\n",
    "\n",
    "- The model achieved an excellent test **accuracy**, matching the validation accuracy. This consistency indicates robustness across unseen data.\n",
    "\n",
    "- The **Recall** for class 1 (positive) is high, meaning the model correctly identifies positive cases most of the time. This is critical in scenarios where false negatives are costly.\n",
    " \n",
    "- The **F1-Score** shows a good balance between precision and recall for this class.\n",
    "\n",
    "- The **ROC-AUC** score indicates excellent separability between the positive and negative classes. This highlights the strong discriminatory power of the model.\n"
   ]
  },
  {
   "cell_type": "code",
   "execution_count": 20,
   "metadata": {},
   "outputs": [
    {
     "name": "stdout",
     "output_type": "stream",
     "text": [
      "Accuracy: 0.9500\n",
      "Recall: 0.8718\n",
      "F1 Score: 0.8705\n",
      "ROC-AUC Score: 0.9877\n"
     ]
    }
   ],
   "source": [
    "from sklearn.metrics import accuracy_score, recall_score, f1_score, roc_auc_score\n",
    "\n",
    "accuracy = accuracy_score(y_test_seq, y_pred)\n",
    "print(f\"Accuracy: {accuracy:.4f}\")\n",
    "\n",
    "recall = recall_score(y_test_seq, y_pred)\n",
    "print(f\"Recall: {recall:.4f}\")\n",
    "\n",
    "f1 = f1_score(y_test_seq, y_pred)\n",
    "print(f\"F1 Score: {f1:.4f}\")\n",
    "\n",
    "roc_auc = roc_auc_score(y_test_seq, y_pred_prob)\n",
    "print(f\"ROC-AUC Score: {roc_auc:.4f}\")"
   ]
  },
  {
   "cell_type": "markdown",
   "metadata": {},
   "source": [
    "#### **Classification Report**:"
   ]
  },
  {
   "cell_type": "code",
   "execution_count": 21,
   "metadata": {},
   "outputs": [
    {
     "name": "stdout",
     "output_type": "stream",
     "text": [
      "Classification Report:\n",
      "              precision    recall  f1-score   support\n",
      "\n",
      "           0       0.97      0.97      0.97      6854\n",
      "           1       0.87      0.87      0.87      1638\n",
      "\n",
      "    accuracy                           0.95      8492\n",
      "   macro avg       0.92      0.92      0.92      8492\n",
      "weighted avg       0.95      0.95      0.95      8492\n",
      "\n"
     ]
    }
   ],
   "source": [
    "from sklearn.metrics import classification_report\n",
    "\n",
    "print(\"Classification Report:\")\n",
    "print(classification_report(y_test_seq, y_pred))"
   ]
  },
  {
   "cell_type": "markdown",
   "metadata": {},
   "source": [
    "Class imbalance is present: 6854 negative cases vs. 1638 positive cases. Despite this, the model maintains good performance on both classes.\n",
    "\n",
    "\n",
    "#### **ROC Curve**: \n",
    "\n",
    "The ROC curve illustrates the trade-off between sensitivity (True Positive Rate) and specificity (1 - False Positive Rate):\n",
    "- **Shape**: The curve is close to the top-left corner, indicating high sensitivity and specificity.\n",
    "- **AUC**: Based on this, the model's predictions are highly reliable.\n",
    "\n"
   ]
  },
  {
   "cell_type": "code",
   "execution_count": 22,
   "metadata": {},
   "outputs": [
    {
     "data": {
      "image/png": "[encoded data removed]",
      "text/plain": [
       "<Figure size 800x600 with 1 Axes>"
      ]
     },
     "metadata": {},
     "output_type": "display_data"
    }
   ],
   "source": [
    "from sklearn.metrics import roc_curve, auc\n",
    "import matplotlib.pyplot as plt\n",
    "\n",
    "# ROC Curve\n",
    "fpr, tpr, thresholds = roc_curve(y_test_seq, y_pred_prob)\n",
    "roc_auc_val = auc(fpr, tpr)\n",
    "\n",
    "# Plot ROC curve\n",
    "plt.figure(figsize=(8, 6))\n",
    "plt.plot(fpr, tpr, color='darkorange', lw=2, label=f'ROC curve (area = {roc_auc_val:.2f})')\n",
    "plt.plot([0, 1], [0, 1], color='navy', lw=2, linestyle='--')\n",
    "plt.xlim([0.0, 1.0])\n",
    "plt.ylim([0.0, 1.05])\n",
    "plt.xlabel('False Positive Rate')\n",
    "plt.ylabel('True Positive Rate')\n",
    "plt.title('Receiver Operating Characteristic')\n",
    "plt.legend(loc='lower right')\n",
    "plt.show()"
   ]
  },
  {
   "cell_type": "markdown",
   "metadata": {},
   "source": [
    "#### Compute the **confusion matrix**:\n",
    "\n",
    "The **confusion matrix** provides a breakdown of predictions:\n",
    "- **True Negatives (TN)**: The majority class predictions are highly accurate.\n",
    "- **False Negatives (FN)**: Class 1 has more missed predictions, as reflected by the recall percentage.\n",
    "- **Visualization**: The heatmap confirms effective separation of classes, though there are some errors in the minority class."
   ]
  },
  {
   "cell_type": "code",
   "execution_count": 23,
   "metadata": {},
   "outputs": [
    {
     "data": {
      "image/png": "[encoded data removed]",
      "text/plain": [
       "<Figure size 500x500 with 2 Axes>"
      ]
     },
     "metadata": {},
     "output_type": "display_data"
    }
   ],
   "source": [
    "from sklearn.metrics import confusion_matrix\n",
    "import seaborn as sns\n",
    "import matplotlib.pyplot as plt\n",
    "\n",
    "cm = confusion_matrix(y_test_seq, y_pred)\n",
    "f, ax = plt.subplots(figsize=(5, 5))\n",
    "\n",
    "sns.heatmap(cm, annot=True, fmt='.0f', linewidths=0.5, linecolor=\"r\", ax=ax)\n",
    "\n",
    "plt.xlabel('Predicted Labels')\n",
    "plt.ylabel('True Labels')\n",
    "plt.title('Confusion Matrix')\n",
    "plt.show()"
   ]
  },
  {
   "cell_type": "markdown",
   "metadata": {},
   "source": [
    "### Error Analysis:\n",
    "\n",
    "#### Possible Sources of Error:\n",
    "1. **Class Imbalance**:\n",
    "   - The dataset has significantly more negative samples than positive ones (6854 vs. 1638). While the model performs well, metrics like recall and precision for class 1 are slightly affected.\n",
    "2. **Overfitting**:\n",
    "   - The increasing validation loss in later epochs indicates mild overfitting. Techniques like **Dropout** and **EarlyStopping** were effective, for example, **EarlyStopping** halted training after the validation loss increased for 3 consecutive epochs, mitigating further overfitting. However, further strategies like **class weighting** or additional data augmentation could improve performance.\n",
    "\n",
    "### Final Note\n",
    "The model demonstrates excellent performance with excellent **accurac**y and a high **ROC-AUC score**, indicating reliability in separating the two classes. While **recall** and **F1-score** for the minority class (87.18%) are slightly lower, the overall results are impressive. "
   ]
  }
 ],
 "metadata": {
  "kernelspec": {
   "display_name": "Python 3",
   "language": "python",
   "name": "python3"
  },
  "language_info": {
   "codemirror_mode": {
    "name": "ipython",
    "version": 3
   },
   "file_extension": ".py",
   "mimetype": "text/x-python",
   "name": "python",
   "nbconvert_exporter": "python",
   "pygments_lexer": "ipython3",
   "version": "3.11.1"
  }
 },
 "nbformat": 4,
 "nbformat_minor": 4
}
